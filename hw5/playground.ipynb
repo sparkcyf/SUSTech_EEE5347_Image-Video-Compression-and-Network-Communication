{
 "cells": [
  {
   "cell_type": "code",
   "execution_count": 1,
   "metadata": {},
   "outputs": [],
   "source": [
    "import cv2\n",
    "import numpy as np\n",
    "import matplotlib.pyplot as plt\n",
    "import pandas as pd"
   ]
  },
  {
   "cell_type": "code",
   "execution_count": 3,
   "metadata": {},
   "outputs": [],
   "source": [
    "def read_YUV_file(file_path, frame_index, frame_height=288, frame_width=352):\n",
    "    Y_size = frame_height * frame_width\n",
    "    UV_size = Y_size // 2\n",
    "\n",
    "    frame_size = Y_size + UV_size\n",
    "\n",
    "    with open(file_path, 'rb') as f:\n",
    "        f.seek(frame_size * frame_index)\n",
    "        Y_data = np.frombuffer(f.read(Y_size), dtype=np.uint8).reshape(frame_height, frame_width)\n",
    "        U_data = np.frombuffer(f.read(UV_size // 2), dtype=np.uint8).reshape(frame_height // 2, frame_width // 2)\n",
    "        V_data = np.frombuffer(f.read(UV_size // 2), dtype=np.uint8).reshape(frame_height // 2, frame_width // 2)\n",
    "\n",
    "    return Y_data"
   ]
  },
  {
   "cell_type": "code",
   "execution_count": 6,
   "metadata": {},
   "outputs": [],
   "source": [
    "def view_as_blocks(image, block_shape):\n",
    "    \"\"\"\n",
    "    Break the image up into a set of blocks\n",
    "    Args:\n",
    "        image: the input image\n",
    "        block_shape: a tuple specifying the height and width of the blocks\n",
    "\n",
    "    Returns:\n",
    "        A 4D numpy array of shape (n_blocks_row, n_blocks_col, block_height, block_width)\n",
    "    \"\"\"\n",
    "    assert len(block_shape) == 2, \"Block shape must be a 2-tuple\"\n",
    "    assert len(image.shape) == 2, \"Input image must be 2D\"\n",
    "    assert image.shape[0] % block_shape[0] == 0, \"Image height is not divisible by block height\"\n",
    "    assert image.shape[1] % block_shape[1] == 0, \"Image width is not divisible by block width\"\n",
    "\n",
    "    block_height, block_width = block_shape\n",
    "    n_blocks_row = image.shape[0] // block_height\n",
    "    n_blocks_col = image.shape[1] // block_width\n",
    "\n",
    "    blocks = np.zeros((n_blocks_row, n_blocks_col, block_height, block_width), dtype=image.dtype)\n",
    "\n",
    "    for i in range(n_blocks_row):\n",
    "        for j in range(n_blocks_col):\n",
    "            blocks[i, j] = image[i*block_height:(i+1)*block_height,\n",
    "                                 j*block_width:(j+1)*block_width]\n",
    "\n",
    "    return blocks"
   ]
  },
  {
   "cell_type": "code",
   "execution_count": 12,
   "metadata": {},
   "outputs": [],
   "source": [
    "# Parameters\n",
    "block_size = 16\n",
    "search_window_size = 15\n",
    "# Initialize SAD and computation count\n",
    "total_sad = 0\n",
    "total_computations = 0"
   ]
  },
  {
   "cell_type": "code",
   "execution_count": 10,
   "metadata": {},
   "outputs": [],
   "source": [
    "image1= read_YUV_file('bus_cif.yuv', frame_index=0)\n",
    "image2 = read_YUV_file('bus_cif.yuv', frame_index=1)"
   ]
  },
  {
   "cell_type": "code",
   "execution_count": 11,
   "metadata": {},
   "outputs": [],
   "source": [
    "blocks1 = view_as_blocks(image1, block_shape=(block_size, block_size))"
   ]
  },
  {
   "cell_type": "code",
   "execution_count": 13,
   "metadata": {},
   "outputs": [
    {
     "name": "stdout",
     "output_type": "stream",
     "text": [
      "Average SAD: inf\n",
      "Average number of SAD computations: 0.0\n"
     ]
    }
   ],
   "source": [
    "# Full search block matching\n",
    "for i in range(blocks1.shape[0]):\n",
    "    for j in range(blocks1.shape[1]):\n",
    "        block1 = blocks1[i, j]\n",
    "\n",
    "        min_sad = np.inf\n",
    "        best_match = (0, 0)\n",
    "\n",
    "        # Define the search window in the second image\n",
    "        search_window = image2[max(i - search_window_size // 2, 0):min(i + search_window_size // 2, image2.shape[0] - block_size),\n",
    "                               max(j - search_window_size // 2, 0):min(j + search_window_size // 2, image2.shape[1] - block_size)]\n",
    "\n",
    "        # Slide the block over the search window\n",
    "        for m in range(search_window.shape[0] - block_size + 1):\n",
    "            for n in range(search_window.shape[1] - block_size + 1):\n",
    "                block2 = search_window[m:m + block_size, n:n + block_size]\n",
    "\n",
    "                # Compute SAD\n",
    "                sad = np.sum(np.abs(block1 - block2))\n",
    "                total_computations += 1\n",
    "\n",
    "                if sad < min_sad:\n",
    "                    min_sad = sad\n",
    "                    best_match = (m, n)\n",
    "\n",
    "        # Add best SAD to total SAD\n",
    "        total_sad += min_sad\n",
    "\n",
    "# Compute average SAD and average number of computations\n",
    "average_sad = total_sad / (blocks1.shape[0] * blocks1.shape[1])\n",
    "average_computations = total_computations / (blocks1.shape[0] * blocks1.shape[1])\n",
    "\n",
    "print(f'Average SAD: {average_sad}')\n",
    "print(f'Average number of SAD computations: {average_computations}')"
   ]
  }
 ],
 "metadata": {
  "kernelspec": {
   "display_name": "eee5015-py39-torchgpu",
   "language": "python",
   "name": "python3"
  },
  "language_info": {
   "codemirror_mode": {
    "name": "ipython",
    "version": 3
   },
   "file_extension": ".py",
   "mimetype": "text/x-python",
   "name": "python",
   "nbconvert_exporter": "python",
   "pygments_lexer": "ipython3",
   "version": "3.9.16"
  },
  "orig_nbformat": 4
 },
 "nbformat": 4,
 "nbformat_minor": 2
}
